{
 "cells": [
  {
   "cell_type": "code",
   "execution_count": 1,
   "id": "406a8365",
   "metadata": {},
   "outputs": [],
   "source": [
    "#Library imports\n",
    "import os \n",
    "import re"
   ]
  },
  {
   "cell_type": "code",
   "execution_count": null,
   "id": "53ac7a88",
   "metadata": {},
   "outputs": [],
   "source": [
    "# Set your combined/body_movements path\n",
    "\n",
    "channel = 3\n",
    "\n",
    "#Combined images path\n",
    "image_dir = \"/Users/quiquesanchezrodriguez/Desktop/WifiProject/images/\" + str(channel) + \"/combined/body_movements\" #Body Movements\n",
    "\n",
    "# Go through each action folder (e.g., walk_near, squat)\n",
    "for action_folder in os.listdir(image_dir):\n",
    "    action_path = os.path.join(image_dir, action_folder)\n",
    "    \n",
    "    if not os.path.isdir(action_path):\n",
    "        print(f\"Skipping {action_path}, not a directory.\")\n",
    "        continue\n",
    "\n",
    "    index = 0    \n",
    "    for filename in os.listdir(action_path):\n",
    "        if filename.endswith(\".png\"):\n",
    "            # Extract index using regex\n",
    "            match = re.search(r\"[-_](\\d+)_clean\\.png$\", filename)\n",
    "            if not match:\n",
    "                print(f\"Skipping unrecognized format: {filename}\")\n",
    "                continue\n",
    "            \n",
    "            new_name = f\"{action_folder}_{index}.png\"\n",
    "            old_path = os.path.join(action_path, filename)\n",
    "            new_path = os.path.join(action_path, new_name)\n",
    "            \n",
    "            os.rename(old_path, new_path)\n",
    "\n",
    "            index += 1  # Increment index for next file\n",
    "            print(f\"Renamed {filename} to {new_name}\")\n",
    "\n",
    "print(\"Renaming complete.\")\n"
   ]
  }
 ],
 "metadata": {
  "kernelspec": {
   "display_name": "Python 3",
   "language": "python",
   "name": "python3"
  },
  "language_info": {
   "codemirror_mode": {
    "name": "ipython",
    "version": 3
   },
   "file_extension": ".py",
   "mimetype": "text/x-python",
   "name": "python",
   "nbconvert_exporter": "python",
   "pygments_lexer": "ipython3",
   "version": "3.12.5"
  }
 },
 "nbformat": 4,
 "nbformat_minor": 5
}
